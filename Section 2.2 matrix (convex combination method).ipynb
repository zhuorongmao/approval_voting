{
 "cells": [
  {
   "cell_type": "code",
   "execution_count": 4,
   "metadata": {},
   "outputs": [],
   "source": [
    "import numpy as np\n",
    "\n",
    "import itertools\n",
    "\n",
    "\n",
    "def GeneratePermutations(nOrders):\n",
    "\n",
    "    IDs = \"\"\n",
    "\n",
    "    for i in range(nOrders):\n",
    "\n",
    "        IDs = IDs + str(i)\n",
    "\n",
    "    res = np.array(list(itertools.permutations(IDs, nOrders - 1))).astype(\"int\")\n",
    "\n",
    " \n",
    "\n",
    "    return res\n",
    "\n",
    " \n",
    "\n",
    "def RunSingleSimulation(nOrders, perm):\n",
    "\n",
    "    assert(nOrders > 0)\n",
    "\n",
    "    vec = np.random.rand(perm.shape[0])\n",
    "    #print ('vec',vec)\n",
    "\n",
    "    normedSamples = vec/ np.sum(vec)\n",
    "    \n",
    "\n",
    "    pMat = np.zeros([nOrders - 1, nOrders])\n",
    "\n",
    "    for i in range(nOrders - 1):\n",
    "\n",
    "        for j in range(nOrders):\n",
    "\n",
    "            pMat[i,j] = normedSamples[np.any(perm[:, :i+1]==j, axis=1)].sum()\n",
    "\n",
    "    return pMat\n",
    "\n",
    " \n",
    "\n",
    "def RunSimulation(nOrders,sims):\n",
    "    matrix=np.zeros((nOrders-1,nOrders-1))\n",
    "    all_equal=0\n",
    "\n",
    "    perm = GeneratePermutations(nOrders)\n",
    "    #print (perm)\n",
    "\n",
    "    for sim in range(sims):\n",
    "\n",
    "        pMat = RunSingleSimulation(nOrders, perm)\n",
    "\n",
    "        #print(pMat)\n",
    "\n",
    "        maxMat = np.argmax(pMat, axis=1)\n",
    "        maxlist=maxMat.tolist()\n",
    "        if all(x==maxlist[0] for x in maxlist):\n",
    "            all_equal+=1\n",
    "        else:    \n",
    "            for i in np.arange(1,nOrders-1):\n",
    "                for j in np.arange(i+1, nOrders):\n",
    "                       if maxMat[i-1]!=maxMat[j-1]:\n",
    "                            matrix[i-1][j-1]+=1\n",
    "        \n",
    "        \n",
    "#         #print(maxMat)\n",
    "#         if maxMat[0]!=maxMat[1]:\n",
    "#             diff_12+=1\n",
    "#         if maxMat[0]!=maxMat[2]:\n",
    "#             diff_13+=1\n",
    "#         if maxMat[1]!=maxMat[2]:\n",
    "#             diff_23+=1\n",
    "#         if (maxMat[1]==maxMat[2])and (maxMat[1]==maxMat[0]):\n",
    "#             all_equal+=1\n",
    "#     print('the % p1 different from p2', diff_12/sims)\n",
    "#     print('the % p1 different from p3', diff_13/sims)\n",
    "#     print('the % p2 different from p3', diff_23/sims)\n",
    "#     print('the % all three protocols equal', all_equal/sims)\n",
    "\n",
    "      \n",
    "\n",
    "    return matrix,all_equal \n",
    "\n",
    " \n",
    "\n"
   ]
  },
  {
   "cell_type": "code",
   "execution_count": null,
   "metadata": {},
   "outputs": [],
   "source": []
  },
  {
   "cell_type": "code",
   "execution_count": 9,
   "metadata": {},
   "outputs": [],
   "source": [
    "n=5\n",
    "sims=100000\n",
    "# n is the number of alternatives to choose from "
   ]
  },
  {
   "cell_type": "code",
   "execution_count": 11,
   "metadata": {},
   "outputs": [
    {
     "name": "stdout",
     "output_type": "stream",
     "text": [
      "protocol difference matrix: [[0.      0.52581 0.63724 0.70316]\n",
      " [0.      0.      0.48936 0.63554]\n",
      " [0.      0.      0.      0.52605]\n",
      " [0.      0.      0.      0.     ]]\n",
      "the % all three protocols equal: 0.13782\n"
     ]
    }
   ],
   "source": [
    "#main\n",
    "m,e=RunSimulation(n,sims)\n",
    "print('protocol difference matrix:', m/sims)\n",
    "print ('the % all three protocols equal:',e/sims)"
   ]
  },
  {
   "cell_type": "markdown",
   "metadata": {},
   "source": [
    "# This file produce the protocol difference matrices in Section 2.2. "
   ]
  },
  {
   "cell_type": "code",
   "execution_count": null,
   "metadata": {},
   "outputs": [],
   "source": []
  }
 ],
 "metadata": {
  "kernelspec": {
   "display_name": "Python 3",
   "language": "python",
   "name": "python3"
  },
  "language_info": {
   "codemirror_mode": {
    "name": "ipython",
    "version": 3
   },
   "file_extension": ".py",
   "mimetype": "text/x-python",
   "name": "python",
   "nbconvert_exporter": "python",
   "pygments_lexer": "ipython3",
   "version": "3.8.3"
  }
 },
 "nbformat": 4,
 "nbformat_minor": 4
}
